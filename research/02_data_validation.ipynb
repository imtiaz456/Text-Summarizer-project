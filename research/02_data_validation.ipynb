{
 "cells": [
  {
   "cell_type": "code",
   "execution_count": 23,
   "metadata": {},
   "outputs": [],
   "source": [
    "import os"
   ]
  },
  {
   "cell_type": "code",
   "execution_count": 24,
   "metadata": {},
   "outputs": [
    {
     "data": {
      "text/plain": [
       "'d:\\\\NLP_Project\\\\Text-Summarizer-project'"
      ]
     },
     "execution_count": 24,
     "metadata": {},
     "output_type": "execute_result"
    }
   ],
   "source": [
    "%pwd   # as it shows route directory."
   ]
  },
  {
   "cell_type": "code",
   "execution_count": null,
   "metadata": {},
   "outputs": [],
   "source": [
    "# os.chdir(\"/NLP_Project/Text-Summarizer-project/\") "
   ]
  },
  {
   "cell_type": "code",
   "execution_count": null,
   "metadata": {},
   "outputs": [],
   "source": [
    "os.chdir(\"../\")  # its change directory command. and i want to move to\n",
    "                 #Text-Summarizer-project folder from research folder."
   ]
  },
  {
   "cell_type": "code",
   "execution_count": null,
   "metadata": {},
   "outputs": [],
   "source": [
    "%pwd "
   ]
  },
  {
   "cell_type": "code",
   "execution_count": 32,
   "metadata": {},
   "outputs": [],
   "source": [
    "# Defining the entity.\n",
    "# lets create an entity . its return type of a function.\n",
    "from dataclasses import dataclass\n",
    "from pathlib import Path\n",
    "\n",
    "@dataclass(frozen=True)\n",
    "class DataValidationConfig:\n",
    "    root_dir: Path\n",
    "    STATUS_FILE: str\n",
    "    ALL_REQUIRED_FILES: list\n",
    "\n",
    "# Now next step is go to config.yaml and update that file then execute this cell."
   ]
  },
  {
   "cell_type": "code",
   "execution_count": 33,
   "metadata": {},
   "outputs": [],
   "source": [
    "from textSummarizer.constants import *\n",
    "from textSummarizer.utils.common import read_yaml, create_directories"
   ]
  },
  {
   "cell_type": "code",
   "execution_count": 34,
   "metadata": {},
   "outputs": [],
   "source": [
    "# 4. Update the configuration manager in src config\n",
    "\n",
    "# DATA INGESTION: \n",
    "\n",
    "class ConfigurationManager:\n",
    "    def __init__(\n",
    "        self,\n",
    "        config_filepath = CONFIG_FILE_PATH,  # i am taking it from textSummarizer.constants.\n",
    "        params_filepath = PARAMS_FILE_PATH): # i am taking it from textSummarizer.constants too.\n",
    "\n",
    "        self.config = read_yaml(config_filepath) # now i am passing this path in read_yaml.and it will read all the\n",
    "        self.params = read_yaml(params_filepath) # data from the config.yaml file.and i can access all the variables\n",
    "        \n",
    "        create_directories([self.config.artifacts_root]) # by calling create_directories function we will \n",
    "     # pass artifacts_root from config.yaml file. It acts like configBox like output. as in eg. trials.ipynb\n",
    "\n",
    "\n",
    "# DATA VALIDATION: \n",
    "\n",
    "    def get_data_validation_config(self) -> DataValidationConfig: # its a return type of above previous cell.\n",
    "        config = self.config.data_validation\n",
    "    \n",
    "        create_directories([config.root_dir])\n",
    "\n",
    "        data_validation_config = DataValidationConfig(\n",
    "            root_dir = config.root_dir,\n",
    "            STATUS_FILE = config.STATUS_FILE,\n",
    "            ALL_REQUIRED_FILES = config.ALL_REQUIRED_FILES\n",
    "        )\n",
    "\n",
    "        return data_validation_config\n",
    "    # so we have created our custom return type of any function using this data class and we call it entity.\n",
    "\n",
    "    # THE MOST IMPORTANT THING WE DONT NEED TO CHANGE ANY THING HERE. IF WE NEED ANY CHANGE WE JUST MAKE CHANGE IN\n",
    "    #  config.yaml AND IT REFLECT HERE AUTOMATICALLLY.\n"
   ]
  },
  {
   "cell_type": "code",
   "execution_count": 35,
   "metadata": {},
   "outputs": [],
   "source": [
    "import os\n",
    "from textSummarizer.logging import logger"
   ]
  },
  {
   "cell_type": "code",
   "execution_count": 36,
   "metadata": {},
   "outputs": [],
   "source": [
    "# We can do any kind of validation like column validation, data_type validation, etc\n",
    "# Now i am now doing folder validation.\n",
    "\n",
    "class DataValidation:\n",
    "    def __init__(self, config: DataValidationConfig):\n",
    "        self.config = config\n",
    "\n",
    "\n",
    "    \n",
    "    def validate_all_files_exist(self)-> bool:\n",
    "        try:\n",
    "            validation_status = None\n",
    "\n",
    "            all_files = os.listdir(os.path.join(\"artifacts\",\"data_ingestion\",\"samsum_dataset\")) #it will check first\n",
    "\n",
    "            for file in all_files:\n",
    "                if file not in self.config.ALL_REQUIRED_FILES:\n",
    "                    validation_status = False\n",
    "                    with open(self.config.STATUS_FILE, 'w') as f:\n",
    "                        f.write(f\"Validation status: {validation_status}\")\n",
    "                else:\n",
    "                    validation_status = True\n",
    "                    with open(self.config.STATUS_FILE, 'w') as f:\n",
    "                        f.write(f\"Validation status: {validation_status}\")\n",
    "\n",
    "            return validation_status\n",
    "        \n",
    "        except Exception as e:\n",
    "            raise e\n",
    "\n",
    "# Its done now going to update pipeline"
   ]
  },
  {
   "cell_type": "code",
   "execution_count": 37,
   "metadata": {},
   "outputs": [
    {
     "name": "stdout",
     "output_type": "stream",
     "text": [
      "[2023-11-20 15:32:14,337: INFO: common: yaml file: config\\config.yaml loaded successfully:]\n",
      "[2023-11-20 15:32:14,347: INFO: common: yaml file: params.yaml loaded successfully:]\n",
      "[2023-11-20 15:32:14,347: INFO: common: created directory at: artifacts:]\n",
      "[2023-11-20 15:32:14,355: INFO: common: created directory at: artifacts/data_validation:]\n"
     ]
    }
   ],
   "source": [
    "try:\n",
    "    config = ConfigurationManager()\n",
    "    data_validation_config = config.get_data_validation_config()\n",
    "    data_validation = DataValidation(config=data_validation_config)\n",
    "    data_validation.validate_all_files_exist()\n",
    "except Exception as e:\n",
    "     raise e"
   ]
  },
  {
   "cell_type": "code",
   "execution_count": null,
   "metadata": {},
   "outputs": [],
   "source": [
    "# import logging\n",
    "\n",
    "# try:\n",
    "#     config = ConfigurationManager()\n",
    "#     data_validation_config = config.get_data_validation_config()\n",
    "#     data_validation = DataValidation(config=data_validation_config)\n",
    "#     data_validation.validate_all_files_exist()\n",
    "# except FileNotFoundError as file_not_found_error:\n",
    "#     logging.error(f\"File not found: {file_not_found_error}\")\n",
    "#     # Handle the file not found error\n",
    "# except PermissionError as permission_error:\n",
    "#     logging.error(f\"Permission error: {permission_error}\")\n",
    "#     # Handle the permission error\n",
    "# except Exception as e:\n",
    "#     logging.error(f\"An unexpected error occurred: {e}\")\n",
    "#     # Handle other unexpected errors\n"
   ]
  }
 ],
 "metadata": {
  "kernelspec": {
   "display_name": "textS",
   "language": "python",
   "name": "python3"
  },
  "language_info": {
   "codemirror_mode": {
    "name": "ipython",
    "version": 3
   },
   "file_extension": ".py",
   "mimetype": "text/x-python",
   "name": "python",
   "nbconvert_exporter": "python",
   "pygments_lexer": "ipython3",
   "version": "3.8.18"
  }
 },
 "nbformat": 4,
 "nbformat_minor": 2
}
