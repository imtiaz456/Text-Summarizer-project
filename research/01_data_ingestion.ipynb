{
 "cells": [
  {
   "cell_type": "code",
   "execution_count": 1,
   "metadata": {},
   "outputs": [],
   "source": [
    "import os"
   ]
  },
  {
   "cell_type": "code",
   "execution_count": 2,
   "metadata": {},
   "outputs": [
    {
     "data": {
      "text/plain": [
       "'d:\\\\NLP_Project\\\\Text-Summarizer-project\\\\research'"
      ]
     },
     "execution_count": 2,
     "metadata": {},
     "output_type": "execute_result"
    }
   ],
   "source": [
    "%pwd   # as it shows route directory."
   ]
  },
  {
   "cell_type": "code",
   "execution_count": 3,
   "metadata": {},
   "outputs": [],
   "source": [
    "os.chdir(\"../\")  # its change directory command. and i want to move to\n",
    "                 #Text-Summarizer-project folder from research folder."
   ]
  },
  {
   "cell_type": "code",
   "execution_count": 4,
   "metadata": {},
   "outputs": [
    {
     "data": {
      "text/plain": [
       "'d:\\\\NLP_Project\\\\Text-Summarizer-project'"
      ]
     },
     "execution_count": 4,
     "metadata": {},
     "output_type": "execute_result"
    }
   ],
   "source": [
    "%pwd"
   ]
  },
  {
   "cell_type": "code",
   "execution_count": 5,
   "metadata": {},
   "outputs": [],
   "source": [
    "# 3. Update entity\n",
    "# lets create an entity . its return type of a function.\n",
    "from dataclasses import dataclass\n",
    "from pathlib import Path\n",
    "\n",
    "@dataclass(frozen=True)\n",
    "class DataIngestionConfig:\n",
    "    root_dir: Path\n",
    "    source_URL: str\n",
    "    local_data_file: Path\n",
    "    unzip_dir: Path"
   ]
  },
  {
   "cell_type": "code",
   "execution_count": 6,
   "metadata": {},
   "outputs": [],
   "source": [
    "from textSummarizer.constants import *\n",
    "from textSummarizer.utils.common import read_yaml"
   ]
  },
  {
   "cell_type": "code",
   "execution_count": 7,
   "metadata": {},
   "outputs": [],
   "source": [
    "from textSummarizer.utils.common import create_directories"
   ]
  },
  {
   "cell_type": "code",
   "execution_count": 9,
   "metadata": {},
   "outputs": [],
   "source": [
    "# 4. Update the configuration manager in src config\n",
    "\n",
    "class ConfigurationManager:\n",
    "    def __init__(\n",
    "        self,\n",
    "        config_filepath = CONFIG_FILE_PATH,  # i am taking it from textSummarizer.constants.\n",
    "        params_filepath = PARAMS_FILE_PATH): # i am taking it from textSummarizer.constants too.\n",
    "\n",
    "        self.config = read_yaml(config_filepath) # now i am passing this path in read_yaml.and it will read all the\n",
    "        self.params = read_yaml(params_filepath) # data from the config.yaml file.and i can access all the variables\n",
    "        create_directories([self.config.artifacts_root]) # by calling create_directories function we will \n",
    "     # pass artifacts_root from config.yaml file. It acts like configBox like output. as in eg. trials.ipynb\n",
    "\n",
    "\n",
    "    \n",
    "\n",
    "    def get_data_ingestion_config(self) -> DataIngestionConfig: # its a return type of above previous cell.\n",
    "        config = self.config.data_ingestion    # these are variables below it will return.\n",
    "    \n",
    "        create_directories([config.root_dir])\n",
    "\n",
    "        data_ingestion_config = DataIngestionConfig(\n",
    "            root_dir=config.root_dir,\n",
    "            source_URL=config.source_URL,\n",
    "            local_data_file=config.local_data_file,\n",
    "            unzip_dir=config.unzip_dir \n",
    "        )\n",
    "\n",
    "        return data_ingestion_config\n",
    "    # so we have created our custom return type of any function using this data class and we call it entity.\n",
    "    # And this is my config manager(class) inside that i have my data ingestion related to configuration.\n",
    "\n",
    "    # THE MOST IMPORTANT THING WE DONT NEED TO CHANGE ANY THING HERE. IF WE NEED WE JUST MAKE CHANGE IN config.yaml\n",
    "    # AND IT REFLECT HERE AUTOMATICALLLY."
   ]
  },
  {
   "cell_type": "code",
   "execution_count": 11,
   "metadata": {},
   "outputs": [],
   "source": [
    "# 5. update the components\n",
    "import os\n",
    "import urllib.request as request # Using it to download my data from url\n",
    "import zipfile                   # to perform unzip operation\n",
    "from textSummarizer.logging import logger  # import from common.py file\n",
    "from textSummarizer.utils.common import get_size  # import from common.py file"
   ]
  },
  {
   "cell_type": "code",
   "execution_count": 12,
   "metadata": {},
   "outputs": [],
   "source": [
    "# I have creatd one class named DataIngestionConfig\n",
    "class DataIngestion:\n",
    "    def __init__(self, config: DataIngestionConfig):\n",
    "        self.config = config   # here i am initializing the config\n",
    "\n",
    "# two methods 1. download data from url and 2. unzip the file\n",
    "    \n",
    "    def download_file(self):         \n",
    "        if not os.path.exists(self.config.local_data_file):\n",
    "            filename, headers = request.urlretrieve(\n",
    "                url = self.config.source_URL,  # its the url we defined in config.yml\n",
    "                filename = self.config.local_data_file  # it shows where i am downloading this file(local_data_file).\n",
    "            )\n",
    "            logger.info(f\"{filename} download! with following info: \\n{headers}\")\n",
    "        else:\n",
    "            logger.info(f\"File already exists of size: {get_size(Path(self.config.local_data_file))}\")  \n",
    "          # i also want to see the size of the file. therefore using get_size method.\n",
    "        \n",
    "    \n",
    "    def extract_zip_file(self):\n",
    "        \"\"\"\n",
    "        zip_file_path: str\n",
    "        Extracts the zip file into the data directory\n",
    "        Function returns None\n",
    "        \"\"\"\n",
    "        unzip_path = self.config.unzip_dir # unzip into unzip_dir.\n",
    "        os.makedirs(unzip_path, exist_ok=True)\n",
    "        with zipfile.ZipFile(self.config.local_data_file, 'r') as zip_ref:\n",
    "            zip_ref.extractall(unzip_path)  # i am extracting in unzip file"
   ]
  },
  {
   "cell_type": "code",
   "execution_count": 13,
   "metadata": {},
   "outputs": [
    {
     "name": "stdout",
     "output_type": "stream",
     "text": [
      "[2023-11-13 15:30:02,680: INFO: common: yaml file: config\\config.yaml loaded successfully:]\n",
      "[2023-11-13 15:30:02,711: INFO: common: yaml file: params.yaml loaded successfully:]\n",
      "[2023-11-13 15:30:02,717: INFO: common: created directory at: artifacts:]\n",
      "[2023-11-13 15:30:02,724: INFO: common: created directory at: artifacts/data_ingestion:]\n",
      "[2023-11-13 15:30:27,853: INFO: 2572867094: artifacts/data_ingestion/data.zip download! with following info: \n",
      "Connection: close\n",
      "Content-Length: 7050697\n",
      "Cache-Control: max-age=300\n",
      "Content-Security-Policy: default-src 'none'; style-src 'unsafe-inline'; sandbox\n",
      "Content-Type: application/zip\n",
      "ETag: \"e91f78c406218c4bb71a6b5ac4bcc7a806eeec112f4ed4d24a8f9366e8d40c2f\"\n",
      "Strict-Transport-Security: max-age=31536000\n",
      "X-Content-Type-Options: nosniff\n",
      "X-Frame-Options: deny\n",
      "X-XSS-Protection: 1; mode=block\n",
      "X-GitHub-Request-Id: 528A:5E4D:275D4D4:2952FE1:6551FAB4\n",
      "Accept-Ranges: bytes\n",
      "Date: Mon, 13 Nov 2023 10:30:13 GMT\n",
      "Via: 1.1 varnish\n",
      "X-Served-By: cache-fra-eddf8230126-FRA\n",
      "X-Cache: MISS\n",
      "X-Cache-Hits: 0\n",
      "X-Timer: S1699871413.039973,VS0,VE294\n",
      "Vary: Authorization,Accept-Encoding,Origin\n",
      "Access-Control-Allow-Origin: *\n",
      "Cross-Origin-Resource-Policy: cross-origin\n",
      "X-Fastly-Request-ID: e281b8c91616efeca38a231568e2886eff27e105\n",
      "Expires: Mon, 13 Nov 2023 10:35:13 GMT\n",
      "Source-Age: 0\n",
      "\n",
      ":]\n"
     ]
    }
   ],
   "source": [
    "#  first i will handle try except block\n",
    "try:\n",
    "    config = ConfigurationManager()\n",
    "    data_ingestion_config = config.get_data_ingestion_config()\n",
    "    data_ingestion = DataIngestion(config=data_ingestion_config)\n",
    "    data_ingestion.download_file()\n",
    "    data_ingestion.extract_zip_file()\n",
    "except Exception as e:\n",
    "    raise e"
   ]
  }
 ],
 "metadata": {
  "kernelspec": {
   "display_name": "textS",
   "language": "python",
   "name": "python3"
  },
  "language_info": {
   "codemirror_mode": {
    "name": "ipython",
    "version": 3
   },
   "file_extension": ".py",
   "mimetype": "text/x-python",
   "name": "python",
   "nbconvert_exporter": "python",
   "pygments_lexer": "ipython3",
   "version": "3.8.18"
  }
 },
 "nbformat": 4,
 "nbformat_minor": 2
}
